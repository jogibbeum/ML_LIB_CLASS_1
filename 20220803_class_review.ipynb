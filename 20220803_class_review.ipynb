{
  "nbformat": 4,
  "nbformat_minor": 0,
  "metadata": {
    "colab": {
      "name": "20220803_class_review.ipynb",
      "provenance": [],
      "authorship_tag": "ABX9TyN9fJaA+K5kRMqkWlTTjGiU",
      "include_colab_link": true
    },
    "kernelspec": {
      "name": "python3",
      "display_name": "Python 3"
    },
    "language_info": {
      "name": "python"
    }
  },
  "cells": [
    {
      "cell_type": "markdown",
      "metadata": {
        "id": "view-in-github",
        "colab_type": "text"
      },
      "source": [
        "<a href=\"https://colab.research.google.com/github/jogibbeum/ML_LIB_CLASS_1/blob/main/20220803_class_review.ipynb\" target=\"_parent\"><img src=\"https://colab.research.google.com/assets/colab-badge.svg\" alt=\"Open In Colab\"/></a>"
      ]
    },
    {
      "cell_type": "code",
      "execution_count": 1,
      "metadata": {
        "id": "Zx9ILPMx8g0j"
      },
      "outputs": [],
      "source": [
        "import os, warnings\n",
        "import numpy as np"
      ]
    },
    {
      "cell_type": "code",
      "source": [
        "# import mglearn    pip install mglearn"
      ],
      "metadata": {
        "id": "PGlUJrd38pvQ"
      },
      "execution_count": 5,
      "outputs": []
    },
    {
      "cell_type": "code",
      "source": [
        "# mglearn.plots.plot_cross_validation() 실행 시 교차 검증 그림 나옴"
      ],
      "metadata": {
        "id": "3ePYeoktGTDr"
      },
      "execution_count": 3,
      "outputs": []
    },
    {
      "cell_type": "code",
      "source": [
        "# sklearn의 21 버전은 cv(k폴더의수)가 3, 22 버전은 cv가 5로 기본 설정"
      ],
      "metadata": {
        "id": "DlHTYMc3GeJL"
      },
      "execution_count": 4,
      "outputs": []
    },
    {
      "cell_type": "code",
      "source": [
        "from sklearn.datasets import load_iris\n",
        "from sklearn.model_selection import cross_val_score\n",
        "from sklearn.neighbors import KNeighborsClassifier\n",
        "from sklearn.linear_model import LogisticRegression"
      ],
      "metadata": {
        "id": "3rrwURn1GoRP"
      },
      "execution_count": 6,
      "outputs": []
    },
    {
      "cell_type": "code",
      "source": [
        "iris = load_iris()\n",
        "logreg = LogisticRegression()"
      ],
      "metadata": {
        "id": "_VHfD6TPHJMc"
      },
      "execution_count": 7,
      "outputs": []
    },
    {
      "cell_type": "code",
      "source": [
        "scores = cross_val_score(logreg, iris.data, iris.target)\n",
        "print(\"교차 검증 점수 : {}\".format(scores))"
      ],
      "metadata": {
        "colab": {
          "base_uri": "https://localhost:8080/"
        },
        "id": "D5oAR6gSKKUv",
        "outputId": "a970b03f-7624-4e53-e83b-ea89823d9b3d"
      },
      "execution_count": 9,
      "outputs": [
        {
          "output_type": "stream",
          "name": "stdout",
          "text": [
            "교차 검증 점수 : [0.96666667 1.         0.93333333 0.96666667 1.        ]\n"
          ]
        },
        {
          "output_type": "stream",
          "name": "stderr",
          "text": [
            "/usr/local/lib/python3.7/dist-packages/sklearn/linear_model/_logistic.py:818: ConvergenceWarning: lbfgs failed to converge (status=1):\n",
            "STOP: TOTAL NO. of ITERATIONS REACHED LIMIT.\n",
            "\n",
            "Increase the number of iterations (max_iter) or scale the data as shown in:\n",
            "    https://scikit-learn.org/stable/modules/preprocessing.html\n",
            "Please also refer to the documentation for alternative solver options:\n",
            "    https://scikit-learn.org/stable/modules/linear_model.html#logistic-regression\n",
            "  extra_warning_msg=_LOGISTIC_SOLVER_CONVERGENCE_MSG,\n"
          ]
        }
      ]
    },
    {
      "cell_type": "code",
      "source": [
        "scores = cross_val_score(logreg, iris.data, iris.target, cv=3)\n",
        "print(\"교차 검증 점수 : {}\".format(scores))"
      ],
      "metadata": {
        "colab": {
          "base_uri": "https://localhost:8080/"
        },
        "id": "FNPHgMKrKfCO",
        "outputId": "c4a00d17-229e-493d-9308-af9d5a7d51b2"
      },
      "execution_count": 10,
      "outputs": [
        {
          "output_type": "stream",
          "name": "stdout",
          "text": [
            "교차 검증 점수 : [0.98 0.96 0.98]\n"
          ]
        },
        {
          "output_type": "stream",
          "name": "stderr",
          "text": [
            "/usr/local/lib/python3.7/dist-packages/sklearn/linear_model/_logistic.py:818: ConvergenceWarning: lbfgs failed to converge (status=1):\n",
            "STOP: TOTAL NO. of ITERATIONS REACHED LIMIT.\n",
            "\n",
            "Increase the number of iterations (max_iter) or scale the data as shown in:\n",
            "    https://scikit-learn.org/stable/modules/preprocessing.html\n",
            "Please also refer to the documentation for alternative solver options:\n",
            "    https://scikit-learn.org/stable/modules/linear_model.html#logistic-regression\n",
            "  extra_warning_msg=_LOGISTIC_SOLVER_CONVERGENCE_MSG,\n"
          ]
        }
      ]
    },
    {
      "cell_type": "markdown",
      "source": [
        "교차 검증 장점\n",
        "* 데이터를 무작위로 나눌 때 운 좋게 학습용 세트에는 분류하기 어려운 샘플이 담길 수 있다. 이경우 테스트 세트에 분류에 좋은 샘플이 담긴다면 좋은 정확도 얻어질 것임\n",
        "* 반대로 훈련세트에 분류가 쉽고, 테스트 세트에 분류가 어려운 샘플이 담긴다면, 테스트 세트의 정확도는 낮은 결과가 나올 것임\n",
        "\n",
        "첫번째 장점 : 일반화된 모델을 생성할 수 있음 \n",
        "\n",
        "두번째 장점 : 분할을 한 번 했을 때보다 데이터를 더 효과적으로 사용 가능하다.\n",
        "\n",
        "단점 : 연산 비용이 늘어나며 k배 느린 속도"
      ],
      "metadata": {
        "id": "Qrqv-C_WK2xp"
      }
    },
    {
      "cell_type": "code",
      "source": [
        "# 데이터셋을 나열 순서대로 k개의 폴드로 나누는 것은 항상 좋은 것이 아니다."
      ],
      "metadata": {
        "id": "xxl5O7v_LteT"
      },
      "execution_count": 11,
      "outputs": []
    },
    {
      "cell_type": "code",
      "source": [
        "from sklearn.datasets import load_iris\n",
        "iris = load_iris()\n",
        "print(\"iris 레이블 : \\n{}\".format(iris.target))"
      ],
      "metadata": {
        "colab": {
          "base_uri": "https://localhost:8080/"
        },
        "id": "cw6t37sBL7FK",
        "outputId": "d3e26fa6-5928-459d-9df6-2a416797b55c"
      },
      "execution_count": 12,
      "outputs": [
        {
          "output_type": "stream",
          "name": "stdout",
          "text": [
            "iris 레이블 : \n",
            "[0 0 0 0 0 0 0 0 0 0 0 0 0 0 0 0 0 0 0 0 0 0 0 0 0 0 0 0 0 0 0 0 0 0 0 0 0\n",
            " 0 0 0 0 0 0 0 0 0 0 0 0 0 1 1 1 1 1 1 1 1 1 1 1 1 1 1 1 1 1 1 1 1 1 1 1 1\n",
            " 1 1 1 1 1 1 1 1 1 1 1 1 1 1 1 1 1 1 1 1 1 1 1 1 1 1 2 2 2 2 2 2 2 2 2 2 2\n",
            " 2 2 2 2 2 2 2 2 2 2 2 2 2 2 2 2 2 2 2 2 2 2 2 2 2 2 2 2 2 2 2 2 2 2 2 2 2\n",
            " 2 2]\n"
          ]
        }
      ]
    },
    {
      "cell_type": "code",
      "source": [
        "# 위의 데이터는 순서대로 나열된 데이터로 3개 데이터 셋으로 나눌 경우, 0이 50개, 1이 50개, 2가 50개의 편향이 발생, 문제 발생\n",
        "# 이럴 경우 단순한 k-겹 교차 검증은 문제가 발생. scikit-learn에서 계층별 교차 검증을 사용"
      ],
      "metadata": {
        "id": "8UmCb6pRMEAw"
      },
      "execution_count": 13,
      "outputs": []
    },
    {
      "cell_type": "markdown",
      "source": [
        "* 계층별 교차 검증 : stratified k-fold cross-validation - 폴더 안의 클래스의 비율이 같도록 데이터를 나눈다."
      ],
      "metadata": {
        "id": "CNnRTjDORmc2"
      }
    },
    {
      "cell_type": "code",
      "source": [
        "# mglearn.plots.plot_stratified_cross_validation()"
      ],
      "metadata": {
        "id": "0XY1SYxdRlDe"
      },
      "execution_count": 14,
      "outputs": []
    },
    {
      "cell_type": "code",
      "source": [
        "from sklearn.model_selection import KFold"
      ],
      "metadata": {
        "id": "kgeXbxp8Rzx8"
      },
      "execution_count": 15,
      "outputs": []
    },
    {
      "cell_type": "code",
      "source": [
        "kfold = KFold(n_splits=3)\n",
        "print(\"교차 검증 점수 : \\n{}\".format(cross_val_score(logreg,\n",
        "                                               iris.data,iris.target, cv=kfold)))"
      ],
      "metadata": {
        "colab": {
          "base_uri": "https://localhost:8080/"
        },
        "id": "M5OcciylR_cd",
        "outputId": "fe7200f5-e01c-4440-c8b0-c6fc05c645aa"
      },
      "execution_count": 16,
      "outputs": [
        {
          "output_type": "stream",
          "name": "stdout",
          "text": [
            "교차 검증 점수 : \n",
            "[0. 0. 0.]\n"
          ]
        }
      ]
    },
    {
      "cell_type": "code",
      "source": [
        "# 계층별 폴더를 만드는 대신에 샘플의 순서를 뒤죽박죽으로 섞기(shuffle=True)\n",
        "kfold = KFold(n_splits=3,shuffle=True,random_state=0)\n",
        "print(\"교차 검증 점수 : \\n{}\".format(cross_val_score(logreg,\n",
        "                                               iris.data,iris.target, cv=kfold)))"
      ],
      "metadata": {
        "colab": {
          "base_uri": "https://localhost:8080/"
        },
        "id": "Sb9GNrN9Se4H",
        "outputId": "d77625ec-bfae-44c6-a390-beba8120a415"
      },
      "execution_count": 17,
      "outputs": [
        {
          "output_type": "stream",
          "name": "stdout",
          "text": [
            "교차 검증 점수 : \n",
            "[0.98 0.96 0.96]\n"
          ]
        },
        {
          "output_type": "stream",
          "name": "stderr",
          "text": [
            "/usr/local/lib/python3.7/dist-packages/sklearn/linear_model/_logistic.py:818: ConvergenceWarning: lbfgs failed to converge (status=1):\n",
            "STOP: TOTAL NO. of ITERATIONS REACHED LIMIT.\n",
            "\n",
            "Increase the number of iterations (max_iter) or scale the data as shown in:\n",
            "    https://scikit-learn.org/stable/modules/preprocessing.html\n",
            "Please also refer to the documentation for alternative solver options:\n",
            "    https://scikit-learn.org/stable/modules/linear_model.html#logistic-regression\n",
            "  extra_warning_msg=_LOGISTIC_SOLVER_CONVERGENCE_MSG,\n",
            "/usr/local/lib/python3.7/dist-packages/sklearn/linear_model/_logistic.py:818: ConvergenceWarning: lbfgs failed to converge (status=1):\n",
            "STOP: TOTAL NO. of ITERATIONS REACHED LIMIT.\n",
            "\n",
            "Increase the number of iterations (max_iter) or scale the data as shown in:\n",
            "    https://scikit-learn.org/stable/modules/preprocessing.html\n",
            "Please also refer to the documentation for alternative solver options:\n",
            "    https://scikit-learn.org/stable/modules/linear_model.html#logistic-regression\n",
            "  extra_warning_msg=_LOGISTIC_SOLVER_CONVERGENCE_MSG,\n"
          ]
        }
      ]
    },
    {
      "cell_type": "code",
      "source": [
        ""
      ],
      "metadata": {
        "id": "BNR0iYogSwcW"
      },
      "execution_count": null,
      "outputs": []
    }
  ]
}